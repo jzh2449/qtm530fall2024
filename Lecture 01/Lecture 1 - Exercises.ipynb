{
 "cells": [
  {
   "attachments": {},
   "cell_type": "markdown",
   "metadata": {},
   "source": [
    "# Lecture 1 Exercises"
   ]
  },
  {
   "cell_type": "markdown",
   "metadata": {},
   "source": [
    "\n",
    "\n",
    "## Short Questions\n",
    "\n",
    "<font size = \"5\">\n",
    "\n",
    "1. What is the difference between a list and an array?\n",
    "2. Consider the list <br>\n",
    "\n",
    "```list_colors = [\"red\",\"yellow\",\"green\"]``` <br>\n",
    "\n",
    "What is the output of ```list_colors[0]``` and <br>\n",
    "```list_colors[1]```?\n",
    "\n",
    "3. How do you concatenate two strings? \n",
    "4. What does the error \"not defined\" mean?\n",
    "5. What does the error \"could not be broadcast\" mean?\n",
    "6. How do you compute the median of an array?\n"
   ]
  },
  {
   "cell_type": "code",
<<<<<<< Updated upstream
   "execution_count": null,
=======
   "execution_count": 1,
>>>>>>> Stashed changes
   "metadata": {},
   "outputs": [],
   "source": [
    "# Write your answers here as comments:\n",
    "\n",
    "\n"
   ]
  },
  {
   "cell_type": "markdown",
   "metadata": {},
   "source": [
    "\n",
    "\n",
    "## Long Questions"
   ]
  },
  {
   "attachments": {},
   "cell_type": "markdown",
   "metadata": {},
   "source": [
    "<font size = \"5\">\n",
    "\n",
    "(a) Import the pandas, matplotlib, and numpy packages"
   ]
  },
  {
   "cell_type": "code",
<<<<<<< Updated upstream
   "execution_count": null,
=======
   "execution_count": 2,
>>>>>>> Stashed changes
   "metadata": {},
   "outputs": [],
   "source": [
    "# Write your own code\n",
    "\n",
    "\n"
   ]
  },
  {
   "attachments": {},
   "cell_type": "markdown",
   "metadata": {},
   "source": [
    "<font size = \"5\">\n",
    "\n",
    "(b) Open the dataset \"worldbank_wdi_2019.csv\" <br>\n",
    "in the \"data\" folder\n",
    "\n",
    "<font size = \"3\">\n",
    "\n",
    "- Read it as a pandas object called \"wdi\"\n",
    "- Note: This is a subset of the World Development Indicators for 2019\n",
    "- Each observation represents a different country"
   ]
  },
  {
   "cell_type": "code",
<<<<<<< Updated upstream
   "execution_count": null,
=======
   "execution_count": 3,
>>>>>>> Stashed changes
   "metadata": {},
   "outputs": [],
   "source": [
    "# Write your own code\n",
    "\n",
    "\n"
   ]
  },
  {
   "attachments": {},
   "cell_type": "markdown",
   "metadata": {},
   "source": [
    "<font size = \"5\">\n",
    "\n",
    "(c) Browse the dataset and manually create <br>\n",
    "a list of variable names\n",
    "\n"
   ]
  },
  {
   "cell_type": "code",
<<<<<<< Updated upstream
   "execution_count": null,
=======
   "execution_count": 4,
>>>>>>> Stashed changes
   "metadata": {},
   "outputs": [],
   "source": [
    "# Write your own code\n",
    "\n",
    "# Create a list, e.g. \"variable_names = [ \"name1\", \"name2\", \"name3\" ]\"\n",
    "# Manually type the names of the variables\n",
    "# If you're viewing the dataset from the VS-Code \"Variables\" tool, you'll\n",
    "# see an extra column \"index\". Do not include this in your list.\n",
    "\n",
    "\n",
    "\n"
   ]
  },
  {
   "attachments": {},
   "cell_type": "markdown",
   "metadata": {},
   "source": [
    "<font size = \"5\">\n",
    "\n",
    "(d) Compute descriptive statistics for the fourth <br>\n",
    "variable in the dataset\n",
    "\n",
    "<font size = \"3\">\n",
    "\n",
    "- One way to do this is:\n",
    "\n",
    "wdi[\"gdp_per_capita_usd\"].describe()\n",
    "\n",
    "- Do something similar, but with the list you created above.\n",
    "- Substitute \"gdp_per_capita_usd\" with a command that <br>\n",
    "automatically extracts the fourth element in the list"
   ]
  },
  {
   "cell_type": "code",
<<<<<<< Updated upstream
   "execution_count": null,
   "metadata": {},
   "outputs": [],
=======
   "execution_count": 5,
   "metadata": {},
   "outputs": [
    {
     "data": {
      "text/plain": [
       "count       255.000000\n",
       "mean      17230.949757\n",
       "std       25792.183785\n",
       "min         216.972968\n",
       "25%        2186.046581\n",
       "50%        6837.717826\n",
       "75%       19809.323135\n",
       "max      199377.481800\n",
       "Name: gdp_per_capita_usd, dtype: float64"
      ]
     },
     "execution_count": 5,
     "metadata": {},
     "output_type": "execute_result"
    }
   ],
>>>>>>> Stashed changes
   "source": [
    "# Write your own code\n",
    "\n",
    "# Remember that the numbering in Python starts at zero\n",
    "# For example:\n",
    "# list_colors = [\"red\",\"green\",\"yellow\"]\n",
    "# list_colors[2] will output \"yellow\"\n",
    "\n",
    "\n",
    "\n"
   ]
  },
  {
   "attachments": {},
   "cell_type": "markdown",
   "metadata": {},
   "source": [
    "<font size = \"5\">\n",
    "\n",
    "(e) Show a scatter plot that shows \"gdp_per_capita_usd\" <br>\n",
    "in the x-axis and \"lifexpectancy\" in the y-axis. Label the axes."
   ]
  },
  {
   "cell_type": "code",
<<<<<<< Updated upstream
   "execution_count": null,
=======
   "execution_count": 6,
>>>>>>> Stashed changes
   "metadata": {},
   "outputs": [],
   "source": [
    "# Write your own code\n",
    "\n",
    "\n"
   ]
  },
  {
   "cell_type": "markdown",
   "metadata": {},
   "source": [
    "<font size = \"5\">\n",
    "\n",
    "(f) Generate \"vec_x\" from a chi-square <br>\n",
    "distribution with (df = 1, size = 1000)\n",
    "\n",
    "<font size = \"3\">\n",
    "\n",
    "- Plot a histogram of each variable, with axis labels, and title\n",
    "- Create a new variable \"vec_y\" by the formula <br>\n",
    "$ y = e^x + 2x + 5$\n",
    "- Plot \"vec_x\" against \"vec_y\" and label the axes"
   ]
  },
  {
   "cell_type": "code",
<<<<<<< Updated upstream
   "execution_count": null,
   "metadata": {},
   "outputs": [],
=======
   "execution_count": 7,
   "metadata": {},
   "outputs": [
    {
     "data": {
      "image/png": "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",
      "text/plain": [
       "<Figure size 640x480 with 1 Axes>"
      ]
     },
     "metadata": {},
     "output_type": "display_data"
    },
    {
     "data": {
      "image/png": "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",
      "text/plain": [
       "<Figure size 640x480 with 1 Axes>"
      ]
     },
     "metadata": {},
     "output_type": "display_data"
    }
   ],
>>>>>>> Stashed changes
   "source": [
    "# Write your own code\n",
    "\n",
    "\n"
   ]
  },
  {
   "cell_type": "markdown",
   "metadata": {},
   "source": [
    "<font size = \"5\">\n",
    "\n",
    "(g) Research online how to create an array with <br>\n",
    "```size = 1000``` entries, with all entries equal to one.\n",
    "\n",
    "<font size = \"3\">\n",
    "\n",
    "- Create a new matrix, ```X_mat``` that appends a <br>\n",
    "vector with only ones and \"vec_x\" from question (f) to form <br>\n",
    "a matrix with two columns and 1000 rows\n",
    "- Compute $(X_{mat}'X_{mat})^{-1}$"
   ]
  },
  {
   "cell_type": "code",
<<<<<<< Updated upstream
   "execution_count": null,
=======
   "execution_count": 8,
>>>>>>> Stashed changes
   "metadata": {},
   "outputs": [],
   "source": [
    "# Write your own code\n",
    "\n",
    "\n",
    "\n",
    "\n"
   ]
  }
 ],
 "metadata": {
  "kernelspec": {
   "display_name": "Python 3",
   "language": "python",
   "name": "python3"
  },
  "language_info": {
   "codemirror_mode": {
    "name": "ipython",
    "version": 3
   },
   "file_extension": ".py",
   "mimetype": "text/x-python",
   "name": "python",
   "nbconvert_exporter": "python",
   "pygments_lexer": "ipython3",
   "version": "3.11.1"
  },
  "orig_nbformat": 4,
  "vscode": {
   "interpreter": {
    "hash": "aee8b7b246df8f9039afb4144a1f6fd8d2ca17a180786b69acc140d282b71a49"
   }
  }
 },
 "nbformat": 4,
 "nbformat_minor": 2
}
